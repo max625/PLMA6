{
  "nbformat": 4,
  "nbformat_minor": 0,
  "metadata": {
    "colab": {
      "provenance": []
    },
    "kernelspec": {
      "name": "python3",
      "display_name": "Python 3"
    },
    "language_info": {
      "name": "python"
    }
  },
  "cells": [
    {
      "cell_type": "code",
      "execution_count": 9,
      "metadata": {
        "colab": {
          "base_uri": "https://localhost:8080/"
        },
        "id": "-JKW2HMtfdvP",
        "outputId": "1cab570d-a20d-49eb-8ced-6184fc0cd829"
      },
      "outputs": [
        {
          "output_type": "stream",
          "name": "stdout",
          "text": [
            "88.33333333333333\n",
            "{'姓名': '賴宏瑋', '性別': '男', '學號': 'M1129020'}\n",
            "95.0\n",
            "{'姓名': '許珈綺', '性別': '女', '學號': 'M1229001'}\n"
          ]
        }
      ],
      "source": [
        "import copy\n",
        "a = dict(姓名='賴宏瑋', 性別='男', 作業分數=[95,100,90])\n",
        "b = dict(學號='M1129020')\n",
        "a.update(b)\n",
        "c=copy.deepcopy(a)\n",
        "a['作業分數'][1]=80\n",
        "c['姓名']='許珈綺'\n",
        "c['性別']='女'\n",
        "c['學號'] = 'M1229001'\n",
        "e = a.pop('作業分數')\n",
        "f = list(e)\n",
        "print((e[0]+e[1]+e[2])/3)\n",
        "print(a)\n",
        "g = c.pop('作業分數')\n",
        "print((g[0]+g[1]+g[2])/3)\n",
        "print(c)"
      ]
    },
    {
      "cell_type": "code",
      "source": [
        "a=[100,50,45,60,90,95,80,50]\n",
        "a.insert(0,88)\n",
        "a[2:4]=[70,50]\n",
        "a.remove(50)\n",
        "b=a.pop(0)\n",
        "c=a.pop()\n",
        "e=b+c\n",
        "print(e)"
      ],
      "metadata": {
        "id": "LuyVcBougEon",
        "colab": {
          "base_uri": "https://localhost:8080/"
        },
        "outputId": "faaf88a2-ab9b-4227-b703-0e0dcfba04fc"
      },
      "execution_count": 25,
      "outputs": [
        {
          "output_type": "stream",
          "name": "stdout",
          "text": [
            "138\n"
          ]
        }
      ]
    },
    {
      "cell_type": "code",
      "source": [
        "a=347//3\n",
        "b=347%3\n",
        "c=a**b\n",
        "print(a)\n",
        "print(b)\n",
        "print(c)"
      ],
      "metadata": {
        "colab": {
          "base_uri": "https://localhost:8080/"
        },
        "id": "R7h3tkTGm1LE",
        "outputId": "e8813665-1ba1-456f-b9a5-417f78966a70"
      },
      "execution_count": 27,
      "outputs": [
        {
          "output_type": "stream",
          "name": "stdout",
          "text": [
            "115\n",
            "2\n",
            "13225\n"
          ]
        }
      ]
    }
  ]
}